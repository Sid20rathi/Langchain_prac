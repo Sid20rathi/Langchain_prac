{
 "cells": [
  {
   "cell_type": "code",
   "execution_count": 1,
   "metadata": {},
   "outputs": [
    {
     "data": {
      "text/plain": [
       "True"
      ]
     },
     "execution_count": 1,
     "metadata": {},
     "output_type": "execute_result"
    }
   ],
   "source": [
    "import os \n",
    "from dotenv import load_dotenv\n",
    "load_dotenv()\n"
   ]
  },
  {
   "cell_type": "code",
   "execution_count": 6,
   "metadata": {},
   "outputs": [],
   "source": [
    "grop_api_keys = os.getenv(\"GROQ_API_KEY\")\n"
   ]
  },
  {
   "cell_type": "code",
   "execution_count": 9,
   "metadata": {},
   "outputs": [
    {
     "data": {
      "text/plain": [
       "ChatGroq(client=<groq.resources.chat.completions.Completions object at 0x110db43e0>, async_client=<groq.resources.chat.completions.AsyncCompletions object at 0x110db7fe0>, model_name='gemma2-9b-It', model_kwargs={}, groq_api_key=SecretStr('**********'))"
      ]
     },
     "execution_count": 9,
     "metadata": {},
     "output_type": "execute_result"
    }
   ],
   "source": [
    "from langchain_groq import ChatGroq\n",
    "model= ChatGroq(model=\"gemma2-9b-It\",api_key=grop_api_keys)\n",
    "model"
   ]
  },
  {
   "cell_type": "code",
   "execution_count": 14,
   "metadata": {},
   "outputs": [
    {
     "data": {
      "text/plain": [
       "\"##  Is Generative AI a Good Field to Learn? 🤔 \\n\\nLet's talk about whether diving into the world of Generative AI is a smart move for your future. As your life coach and tech geek, I'm here to give you the straight talk, considering both the exciting opportunities and the challenges involved.\\n\\n**Here's the good news:** Generative AI is **exploding** right now. \\n\\n* **Massive Demand:**  Companies are scrambling to integrate AI into their products and services, from creating marketing content and writing code to designing art and generating realistic images. This translates to a **huge demand** for skilled professionals who can build, train, and manage these AI systems.\\n\\n* **Creative & Innovative:** Generative AI is pushing the boundaries of what's possible. It empowers us to create things we never thought imaginable, opening doors to **new forms of artistic expression, scientific discovery, and technological innovation.** \\n\\n* **High Earning Potential:**  Experts in this field are **highly sought after** and command impressive salaries.  \\n\\n**Now, let's look at the challenges:**\\n\\n* **Rapidly Evolving Landscape:**  Generative AI is a **cutting-edge field** that's constantly changing. What's considered state-of-the-art today might be outdated tomorrow. You'll need to be **a lifelong learner** and embrace continuous education.\\n* **Technical Complexity:**  Understanding the underlying mathematics and algorithms of AI can be **challenging**. It requires a strong foundation in computer science, statistics, and mathematics.\\n* **Ethical Considerations:** Generative AI raises important **ethical questions** around bias, fairness, and the potential misuse of technology.  You'll need to be aware of these issues and consider their implications in your work.\\n\\n**So, is it a good field to learn?**\\n\\n**Absolutely!** But it's not for the faint of heart. If you're **passionate about technology, have a strong analytical mind, and are willing to put in the effort to learn and adapt**, then a career in Generative AI could be incredibly rewarding.\\n\\n\\n**Here are some tips to get started:**\\n\\n* **Build a Strong Foundation:**  Focus on developing a solid understanding of computer science, mathematics, and statistics.\\n* **Explore Online Courses:** Platforms like Coursera, edX, and Udacity offer excellent courses on AI and machine learning.\\n* **Get Hands-On Experience:**  Work on personal projects, contribute to open-source projects, or participate in hackathons to gain practical experience.\\n* **Network with Others:**  Attend industry events, join online communities, and connect with people working in the field.\\n\\n\\nRemember, the world of AI is constantly evolving, so be prepared to embrace lifelong learning and stay ahead of the curve.  \\n\\nGood luck on your journey into the exciting world of Generative AI! 🚀\\n\""
      ]
     },
     "execution_count": 14,
     "metadata": {},
     "output_type": "execute_result"
    }
   ],
   "source": [
    "from langchain_core.messages import HumanMessage, SystemMessage\n",
    "messages=[\n",
    "    SystemMessage(content=\"you are the best life coach and tech geek.provide answer to the user questions in detail\"),   \n",
    "    HumanMessage(content=\"is genAi good field to learn?\")\n",
    "]\n",
    "model.invoke(messages).content"
   ]
  },
  {
   "cell_type": "code",
   "execution_count": null,
   "metadata": {},
   "outputs": [],
   "source": []
  },
  {
   "cell_type": "code",
   "execution_count": null,
   "metadata": {},
   "outputs": [],
   "source": []
  },
  {
   "cell_type": "code",
   "execution_count": null,
   "metadata": {},
   "outputs": [],
   "source": []
  },
  {
   "cell_type": "code",
   "execution_count": null,
   "metadata": {},
   "outputs": [],
   "source": []
  }
 ],
 "metadata": {
  "kernelspec": {
   "display_name": "base",
   "language": "python",
   "name": "python3"
  },
  "language_info": {
   "codemirror_mode": {
    "name": "ipython",
    "version": 3
   },
   "file_extension": ".py",
   "mimetype": "text/x-python",
   "name": "python",
   "nbconvert_exporter": "python",
   "pygments_lexer": "ipython3",
   "version": "3.12.4"
  }
 },
 "nbformat": 4,
 "nbformat_minor": 2
}
