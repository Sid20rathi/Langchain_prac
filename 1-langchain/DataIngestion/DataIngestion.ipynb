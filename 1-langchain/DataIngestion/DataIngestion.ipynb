{
 "cells": [
  {
   "cell_type": "code",
   "execution_count": 1,
   "metadata": {},
   "outputs": [
    {
     "data": {
      "text/plain": [
       "<langchain_community.document_loaders.text.TextLoader at 0x10773a720>"
      ]
     },
     "execution_count": 1,
     "metadata": {},
     "output_type": "execute_result"
    }
   ],
   "source": [
    "from langchain_community.document_loaders  import TextLoader\n",
    "loader =TextLoader(\"speech.txt\")\n",
    "loader\n"
   ]
  },
  {
   "cell_type": "code",
   "execution_count": 2,
   "metadata": {},
   "outputs": [
    {
     "data": {
      "text/plain": [
       "[Document(metadata={'source': 'speech.txt'}, page_content='Introduction:\\nRetrieval-Augmented Generation (RAG) is a technique that enhances language model generation by incorporating external knowledge.\\nThis is typically done by retrieving relevant information from a large corpus of documents and using that information to inform the generation process.\\nChallenge:\\nClients often have vast proprietary documents.\\nExtracting specific information is like finding a needle in a haystack.\\n2. GPT4-Turbo Introduction:\\nOpenAI’s GPT4-Turbo can process large documents.\\n3. Efficiency Issue:\\n“Lost In The Middle” phenomenon hampers efficiency.\\nModel forgets content in the middle of its contextual window.\\n4. Alternative Approach — Retrieval-Augmented-Generation (RAG):\\nCreate an index for each document paragraph.\\nSwiftly identify pertinent paragraphs.\\nFeed selected paragraphs into a Large Language Model (LLM) like GPT4.\\n5. Advantages:\\nPrevents information overload.\\nEnhances result quality by providing only relevant paragraphs.\\nThe Retrieval Augmented Generation (RAG) Pipeline\\nWith RAG, the LLM is able to leverage knowledge and information that is not necessarily in its weights by providing it access to external knowledge sources such as databases.\\nIt leverages a retriever to find relevant contexts to condition the LLM, in this way, RAG is able to augment the knowledge-base of an LLM with relevant documents.\\nThe retriever here could be any of the following depending on the need for semantic retrieval or not:\\nVector database: Typically, queries are embedded using models like BERT for generating dense vector embeddings. Alternatively, traditional methods like TF-IDF can be used for sparse embeddings. The search is then conducted based on term frequency or semantic similarity.\\nGraph database: Constructs a knowledge base from extracted entity relationships within the text. This approach is precise but may require exact query matching, which could be restrictive in some applications.\\nRegular SQL database: Offers structured data storage and retrieval but might lack the semantic flexibility of vector databases.\\nThe image below from Damien Benveniste, PhD talks a bit about the difference between using Graph vs Vector database for RAG.\\n')]"
      ]
     },
     "execution_count": 2,
     "metadata": {},
     "output_type": "execute_result"
    }
   ],
   "source": [
    "loader.load()"
   ]
  },
  {
   "cell_type": "code",
   "execution_count": 4,
   "metadata": {},
   "outputs": [
    {
     "data": {
      "text/plain": [
       "[Document(metadata={'source': 'overall.pdf', 'page': 0, 'page_label': '1'}, page_content=' \\n \\n \\n \\nDSA \\nHANDWRITTEN \\nNOTES \\n       \\n             Prepared By: \\n'),\n",
       " Document(metadata={'source': 'overall.pdf', 'page': 1, 'page_label': '2'}, page_content=''),\n",
       " Document(metadata={'source': 'overall.pdf', 'page': 2, 'page_label': '3'}, page_content=''),\n",
       " Document(metadata={'source': 'overall.pdf', 'page': 3, 'page_label': '4'}, page_content=''),\n",
       " Document(metadata={'source': 'overall.pdf', 'page': 4, 'page_label': '5'}, page_content=''),\n",
       " Document(metadata={'source': 'overall.pdf', 'page': 5, 'page_label': '6'}, page_content=''),\n",
       " Document(metadata={'source': 'overall.pdf', 'page': 6, 'page_label': '7'}, page_content=''),\n",
       " Document(metadata={'source': 'overall.pdf', 'page': 7, 'page_label': '8'}, page_content=''),\n",
       " Document(metadata={'source': 'overall.pdf', 'page': 8, 'page_label': '9'}, page_content=''),\n",
       " Document(metadata={'source': 'overall.pdf', 'page': 9, 'page_label': '10'}, page_content=''),\n",
       " Document(metadata={'source': 'overall.pdf', 'page': 10, 'page_label': '11'}, page_content=''),\n",
       " Document(metadata={'source': 'overall.pdf', 'page': 11, 'page_label': '12'}, page_content=''),\n",
       " Document(metadata={'source': 'overall.pdf', 'page': 12, 'page_label': '13'}, page_content=''),\n",
       " Document(metadata={'source': 'overall.pdf', 'page': 13, 'page_label': '14'}, page_content=''),\n",
       " Document(metadata={'source': 'overall.pdf', 'page': 14, 'page_label': '15'}, page_content=''),\n",
       " Document(metadata={'source': 'overall.pdf', 'page': 15, 'page_label': '16'}, page_content=''),\n",
       " Document(metadata={'source': 'overall.pdf', 'page': 16, 'page_label': '17'}, page_content=''),\n",
       " Document(metadata={'source': 'overall.pdf', 'page': 17, 'page_label': '18'}, page_content=''),\n",
       " Document(metadata={'source': 'overall.pdf', 'page': 18, 'page_label': '19'}, page_content=''),\n",
       " Document(metadata={'source': 'overall.pdf', 'page': 19, 'page_label': '20'}, page_content=''),\n",
       " Document(metadata={'source': 'overall.pdf', 'page': 20, 'page_label': '21'}, page_content=''),\n",
       " Document(metadata={'source': 'overall.pdf', 'page': 21, 'page_label': '22'}, page_content=''),\n",
       " Document(metadata={'source': 'overall.pdf', 'page': 22, 'page_label': '23'}, page_content=''),\n",
       " Document(metadata={'source': 'overall.pdf', 'page': 23, 'page_label': '24'}, page_content=''),\n",
       " Document(metadata={'source': 'overall.pdf', 'page': 24, 'page_label': '25'}, page_content=''),\n",
       " Document(metadata={'source': 'overall.pdf', 'page': 25, 'page_label': '26'}, page_content=''),\n",
       " Document(metadata={'source': 'overall.pdf', 'page': 26, 'page_label': '27'}, page_content=''),\n",
       " Document(metadata={'source': 'overall.pdf', 'page': 27, 'page_label': '28'}, page_content=''),\n",
       " Document(metadata={'source': 'overall.pdf', 'page': 28, 'page_label': '29'}, page_content=''),\n",
       " Document(metadata={'source': 'overall.pdf', 'page': 29, 'page_label': '30'}, page_content=''),\n",
       " Document(metadata={'source': 'overall.pdf', 'page': 30, 'page_label': '31'}, page_content=''),\n",
       " Document(metadata={'source': 'overall.pdf', 'page': 31, 'page_label': '32'}, page_content=''),\n",
       " Document(metadata={'source': 'overall.pdf', 'page': 32, 'page_label': '33'}, page_content=''),\n",
       " Document(metadata={'source': 'overall.pdf', 'page': 33, 'page_label': '34'}, page_content=''),\n",
       " Document(metadata={'source': 'overall.pdf', 'page': 34, 'page_label': '35'}, page_content=''),\n",
       " Document(metadata={'source': 'overall.pdf', 'page': 35, 'page_label': '36'}, page_content=''),\n",
       " Document(metadata={'source': 'overall.pdf', 'page': 36, 'page_label': '37'}, page_content=''),\n",
       " Document(metadata={'source': 'overall.pdf', 'page': 37, 'page_label': '38'}, page_content=''),\n",
       " Document(metadata={'source': 'overall.pdf', 'page': 38, 'page_label': '39'}, page_content=''),\n",
       " Document(metadata={'source': 'overall.pdf', 'page': 39, 'page_label': '40'}, page_content=''),\n",
       " Document(metadata={'source': 'overall.pdf', 'page': 40, 'page_label': '41'}, page_content=''),\n",
       " Document(metadata={'source': 'overall.pdf', 'page': 41, 'page_label': '42'}, page_content=''),\n",
       " Document(metadata={'source': 'overall.pdf', 'page': 42, 'page_label': '43'}, page_content=''),\n",
       " Document(metadata={'source': 'overall.pdf', 'page': 43, 'page_label': '44'}, page_content=''),\n",
       " Document(metadata={'source': 'overall.pdf', 'page': 44, 'page_label': '45'}, page_content=''),\n",
       " Document(metadata={'source': 'overall.pdf', 'page': 45, 'page_label': '46'}, page_content=''),\n",
       " Document(metadata={'source': 'overall.pdf', 'page': 46, 'page_label': '47'}, page_content=''),\n",
       " Document(metadata={'source': 'overall.pdf', 'page': 47, 'page_label': '48'}, page_content=''),\n",
       " Document(metadata={'source': 'overall.pdf', 'page': 48, 'page_label': '49'}, page_content=''),\n",
       " Document(metadata={'source': 'overall.pdf', 'page': 49, 'page_label': '50'}, page_content=''),\n",
       " Document(metadata={'source': 'overall.pdf', 'page': 50, 'page_label': '51'}, page_content=''),\n",
       " Document(metadata={'source': 'overall.pdf', 'page': 51, 'page_label': '52'}, page_content=''),\n",
       " Document(metadata={'source': 'overall.pdf', 'page': 52, 'page_label': '53'}, page_content=''),\n",
       " Document(metadata={'source': 'overall.pdf', 'page': 53, 'page_label': '54'}, page_content=''),\n",
       " Document(metadata={'source': 'overall.pdf', 'page': 54, 'page_label': '55'}, page_content=''),\n",
       " Document(metadata={'source': 'overall.pdf', 'page': 55, 'page_label': '56'}, page_content=''),\n",
       " Document(metadata={'source': 'overall.pdf', 'page': 56, 'page_label': '57'}, page_content=''),\n",
       " Document(metadata={'source': 'overall.pdf', 'page': 57, 'page_label': '58'}, page_content=''),\n",
       " Document(metadata={'source': 'overall.pdf', 'page': 58, 'page_label': '59'}, page_content=''),\n",
       " Document(metadata={'source': 'overall.pdf', 'page': 59, 'page_label': '60'}, page_content=''),\n",
       " Document(metadata={'source': 'overall.pdf', 'page': 60, 'page_label': '61'}, page_content=''),\n",
       " Document(metadata={'source': 'overall.pdf', 'page': 61, 'page_label': '62'}, page_content=''),\n",
       " Document(metadata={'source': 'overall.pdf', 'page': 62, 'page_label': '63'}, page_content=''),\n",
       " Document(metadata={'source': 'overall.pdf', 'page': 63, 'page_label': '64'}, page_content=''),\n",
       " Document(metadata={'source': 'overall.pdf', 'page': 64, 'page_label': '65'}, page_content=''),\n",
       " Document(metadata={'source': 'overall.pdf', 'page': 65, 'page_label': '66'}, page_content=''),\n",
       " Document(metadata={'source': 'overall.pdf', 'page': 66, 'page_label': '67'}, page_content=''),\n",
       " Document(metadata={'source': 'overall.pdf', 'page': 67, 'page_label': '68'}, page_content=''),\n",
       " Document(metadata={'source': 'overall.pdf', 'page': 68, 'page_label': '69'}, page_content=''),\n",
       " Document(metadata={'source': 'overall.pdf', 'page': 69, 'page_label': '70'}, page_content=''),\n",
       " Document(metadata={'source': 'overall.pdf', 'page': 70, 'page_label': '71'}, page_content=''),\n",
       " Document(metadata={'source': 'overall.pdf', 'page': 71, 'page_label': '72'}, page_content=''),\n",
       " Document(metadata={'source': 'overall.pdf', 'page': 72, 'page_label': '73'}, page_content=''),\n",
       " Document(metadata={'source': 'overall.pdf', 'page': 73, 'page_label': '74'}, page_content=''),\n",
       " Document(metadata={'source': 'overall.pdf', 'page': 74, 'page_label': '75'}, page_content=''),\n",
       " Document(metadata={'source': 'overall.pdf', 'page': 75, 'page_label': '76'}, page_content=''),\n",
       " Document(metadata={'source': 'overall.pdf', 'page': 76, 'page_label': '77'}, page_content=''),\n",
       " Document(metadata={'source': 'overall.pdf', 'page': 77, 'page_label': '78'}, page_content=''),\n",
       " Document(metadata={'source': 'overall.pdf', 'page': 78, 'page_label': '79'}, page_content=''),\n",
       " Document(metadata={'source': 'overall.pdf', 'page': 79, 'page_label': '80'}, page_content=''),\n",
       " Document(metadata={'source': 'overall.pdf', 'page': 80, 'page_label': '81'}, page_content=''),\n",
       " Document(metadata={'source': 'overall.pdf', 'page': 81, 'page_label': '82'}, page_content=''),\n",
       " Document(metadata={'source': 'overall.pdf', 'page': 82, 'page_label': '83'}, page_content=''),\n",
       " Document(metadata={'source': 'overall.pdf', 'page': 83, 'page_label': '84'}, page_content=''),\n",
       " Document(metadata={'source': 'overall.pdf', 'page': 84, 'page_label': '85'}, page_content=''),\n",
       " Document(metadata={'source': 'overall.pdf', 'page': 85, 'page_label': '86'}, page_content=''),\n",
       " Document(metadata={'source': 'overall.pdf', 'page': 86, 'page_label': '87'}, page_content=''),\n",
       " Document(metadata={'source': 'overall.pdf', 'page': 87, 'page_label': '88'}, page_content=''),\n",
       " Document(metadata={'source': 'overall.pdf', 'page': 88, 'page_label': '89'}, page_content=''),\n",
       " Document(metadata={'source': 'overall.pdf', 'page': 89, 'page_label': '90'}, page_content=''),\n",
       " Document(metadata={'source': 'overall.pdf', 'page': 90, 'page_label': '91'}, page_content=''),\n",
       " Document(metadata={'source': 'overall.pdf', 'page': 91, 'page_label': '92'}, page_content=''),\n",
       " Document(metadata={'source': 'overall.pdf', 'page': 92, 'page_label': '93'}, page_content=''),\n",
       " Document(metadata={'source': 'overall.pdf', 'page': 93, 'page_label': '94'}, page_content=''),\n",
       " Document(metadata={'source': 'overall.pdf', 'page': 94, 'page_label': '95'}, page_content=''),\n",
       " Document(metadata={'source': 'overall.pdf', 'page': 95, 'page_label': '96'}, page_content=''),\n",
       " Document(metadata={'source': 'overall.pdf', 'page': 96, 'page_label': '97'}, page_content=''),\n",
       " Document(metadata={'source': 'overall.pdf', 'page': 97, 'page_label': '98'}, page_content=''),\n",
       " Document(metadata={'source': 'overall.pdf', 'page': 98, 'page_label': '99'}, page_content=''),\n",
       " Document(metadata={'source': 'overall.pdf', 'page': 99, 'page_label': '100'}, page_content=''),\n",
       " Document(metadata={'source': 'overall.pdf', 'page': 100, 'page_label': '101'}, page_content=''),\n",
       " Document(metadata={'source': 'overall.pdf', 'page': 101, 'page_label': '102'}, page_content=''),\n",
       " Document(metadata={'source': 'overall.pdf', 'page': 102, 'page_label': '103'}, page_content=''),\n",
       " Document(metadata={'source': 'overall.pdf', 'page': 103, 'page_label': '104'}, page_content=''),\n",
       " Document(metadata={'source': 'overall.pdf', 'page': 104, 'page_label': '105'}, page_content=''),\n",
       " Document(metadata={'source': 'overall.pdf', 'page': 105, 'page_label': '106'}, page_content=''),\n",
       " Document(metadata={'source': 'overall.pdf', 'page': 106, 'page_label': '107'}, page_content=''),\n",
       " Document(metadata={'source': 'overall.pdf', 'page': 107, 'page_label': '108'}, page_content=''),\n",
       " Document(metadata={'source': 'overall.pdf', 'page': 108, 'page_label': '109'}, page_content='')]"
      ]
     },
     "execution_count": 4,
     "metadata": {},
     "output_type": "execute_result"
    }
   ],
   "source": [
    "from langchain.document_loaders import PyPDFLoader\n",
    "\n",
    "loader = PyPDFLoader(\"overall.pdf\")\n",
    "document = loader.load()\n",
    "document"
   ]
  },
  {
   "cell_type": "code",
   "execution_count": null,
   "metadata": {},
   "outputs": [],
   "source": []
  },
  {
   "cell_type": "code",
   "execution_count": null,
   "metadata": {},
   "outputs": [],
   "source": []
  },
  {
   "cell_type": "code",
   "execution_count": null,
   "metadata": {},
   "outputs": [],
   "source": []
  },
  {
   "cell_type": "code",
   "execution_count": 6,
   "metadata": {},
   "outputs": [
    {
     "data": {
      "text/plain": [
       "langchain_core.documents.base.Document"
      ]
     },
     "execution_count": 6,
     "metadata": {},
     "output_type": "execute_result"
    }
   ],
   "source": [
    "type(document[0])\n"
   ]
  },
  {
   "cell_type": "code",
   "execution_count": 7,
   "metadata": {},
   "outputs": [
    {
     "name": "stderr",
     "output_type": "stream",
     "text": [
      "USER_AGENT environment variable not set, consider setting it to identify your requests.\n"
     ]
    }
   ],
   "source": [
    "from langchain.document_loaders import WebBaseLoader\n",
    "import bs4\n",
    "\n",
    "loader = WebBaseLoader(web_path=(\"https://siddhant-portfolio-pi.vercel.app/\"),\n",
    "                       bs_kwargs=dict(parse_only=bs4.SoupStrainer(\n",
    "                           class_=(\"post-title\",\"post-content\",\"post-header\")\n",
    "                       )))"
   ]
  },
  {
   "cell_type": "code",
   "execution_count": 8,
   "metadata": {},
   "outputs": [
    {
     "data": {
      "text/plain": [
       "[Document(metadata={'source': 'https://siddhant-portfolio-pi.vercel.app/'}, page_content='')]"
      ]
     },
     "execution_count": 8,
     "metadata": {},
     "output_type": "execute_result"
    }
   ],
   "source": [
    "loader.load()"
   ]
  },
  {
   "cell_type": "code",
   "execution_count": null,
   "metadata": {},
   "outputs": [],
   "source": [
    "import json\n",
    "import requests\n",
    "\n",
    "json_data = requests.get(\"\").json()\n",
    "json_data"
   ]
  }
 ],
 "metadata": {
  "kernelspec": {
   "display_name": "actionnote-backend",
   "language": "python",
   "name": "python3"
  },
  "language_info": {
   "codemirror_mode": {
    "name": "ipython",
    "version": 3
   },
   "file_extension": ".py",
   "mimetype": "text/x-python",
   "name": "python",
   "nbconvert_exporter": "python",
   "pygments_lexer": "ipython3",
   "version": "3.12.4"
  }
 },
 "nbformat": 4,
 "nbformat_minor": 2
}
